{
 "cells": [
  {
   "cell_type": "markdown",
   "id": "2d2ca316",
   "metadata": {},
   "source": [
    "# REG NO: 21MID0038\n",
    "# NAME: R.V.S NITHIN\n",
    "# 12-01-2024 : Tutorial Class -1"
   ]
  },
  {
   "cell_type": "markdown",
   "id": "10f99819",
   "metadata": {},
   "source": [
    "# Installing NLTK"
   ]
  },
  {
   "cell_type": "code",
   "execution_count": 1,
   "id": "0745eaf5",
   "metadata": {},
   "outputs": [
    {
     "name": "stdout",
     "output_type": "stream",
     "text": [
      "Requirement already satisfied: nltk in c:\\users\\rvs nithin\\anaconda_2021\\lib\\site-packages (3.6.5)\n",
      "Requirement already satisfied: click in c:\\users\\rvs nithin\\anaconda_2021\\lib\\site-packages (from nltk) (8.0.3)\n",
      "Requirement already satisfied: joblib in c:\\users\\rvs nithin\\anaconda_2021\\lib\\site-packages (from nltk) (1.1.0)\n",
      "Requirement already satisfied: regex>=2021.8.3 in c:\\users\\rvs nithin\\anaconda_2021\\lib\\site-packages (from nltk) (2021.8.3)\n",
      "Requirement already satisfied: tqdm in c:\\users\\rvs nithin\\anaconda_2021\\lib\\site-packages (from nltk) (4.62.3)\n",
      "Requirement already satisfied: colorama in c:\\users\\rvs nithin\\anaconda_2021\\lib\\site-packages (from click->nltk) (0.4.4)\n"
     ]
    }
   ],
   "source": [
    "!pip install nltk"
   ]
  },
  {
   "cell_type": "markdown",
   "id": "b891beb9",
   "metadata": {},
   "source": [
    "# Downloading corpus from nltk"
   ]
  },
  {
   "cell_type": "code",
   "execution_count": 6,
   "id": "749288b8",
   "metadata": {},
   "outputs": [
    {
     "name": "stdout",
     "output_type": "stream",
     "text": [
      "showing info https://raw.githubusercontent.com/nltk/nltk_data/gh-pages/index.xml\n"
     ]
    },
    {
     "data": {
      "text/plain": [
       "True"
      ]
     },
     "execution_count": 6,
     "metadata": {},
     "output_type": "execute_result"
    }
   ],
   "source": [
    "import nltk\n",
    "nltk.download()"
   ]
  },
  {
   "cell_type": "markdown",
   "id": "a4cbce00",
   "metadata": {},
   "source": [
    "# Book Corpus"
   ]
  },
  {
   "cell_type": "code",
   "execution_count": 5,
   "id": "576bacdb",
   "metadata": {},
   "outputs": [],
   "source": [
    "from nltk.book import *"
   ]
  },
  {
   "cell_type": "markdown",
   "id": "6345959a",
   "metadata": {},
   "source": [
    "# Brown Corpus"
   ]
  },
  {
   "cell_type": "code",
   "execution_count": 6,
   "id": "448270e4",
   "metadata": {},
   "outputs": [],
   "source": [
    "from nltk.corpus import brown"
   ]
  },
  {
   "cell_type": "code",
   "execution_count": 7,
   "id": "1702eaf6",
   "metadata": {},
   "outputs": [
    {
     "data": {
      "text/plain": [
       "['adventure',\n",
       " 'belles_lettres',\n",
       " 'editorial',\n",
       " 'fiction',\n",
       " 'government',\n",
       " 'hobbies',\n",
       " 'humor',\n",
       " 'learned',\n",
       " 'lore',\n",
       " 'mystery',\n",
       " 'news',\n",
       " 'religion',\n",
       " 'reviews',\n",
       " 'romance',\n",
       " 'science_fiction']"
      ]
     },
     "execution_count": 7,
     "metadata": {},
     "output_type": "execute_result"
    }
   ],
   "source": [
    "brown.categories()"
   ]
  },
  {
   "cell_type": "markdown",
   "id": "07fe0bc9",
   "metadata": {},
   "source": [
    "# Inaugural corpus"
   ]
  },
  {
   "cell_type": "code",
   "execution_count": 8,
   "id": "59e1eb2d",
   "metadata": {},
   "outputs": [],
   "source": [
    "from nltk.corpus import inaugural"
   ]
  },
  {
   "cell_type": "code",
   "execution_count": 9,
   "id": "97ecd5ab",
   "metadata": {},
   "outputs": [
    {
     "data": {
      "text/plain": [
       "['1789-Washington.txt',\n",
       " '1793-Washington.txt',\n",
       " '1797-Adams.txt',\n",
       " '1801-Jefferson.txt',\n",
       " '1805-Jefferson.txt',\n",
       " '1809-Madison.txt',\n",
       " '1813-Madison.txt',\n",
       " '1817-Monroe.txt',\n",
       " '1821-Monroe.txt',\n",
       " '1825-Adams.txt',\n",
       " '1829-Jackson.txt',\n",
       " '1833-Jackson.txt',\n",
       " '1837-VanBuren.txt',\n",
       " '1841-Harrison.txt',\n",
       " '1845-Polk.txt',\n",
       " '1849-Taylor.txt',\n",
       " '1853-Pierce.txt',\n",
       " '1857-Buchanan.txt',\n",
       " '1861-Lincoln.txt',\n",
       " '1865-Lincoln.txt',\n",
       " '1869-Grant.txt',\n",
       " '1873-Grant.txt',\n",
       " '1877-Hayes.txt',\n",
       " '1881-Garfield.txt',\n",
       " '1885-Cleveland.txt',\n",
       " '1889-Harrison.txt',\n",
       " '1893-Cleveland.txt',\n",
       " '1897-McKinley.txt',\n",
       " '1901-McKinley.txt',\n",
       " '1905-Roosevelt.txt',\n",
       " '1909-Taft.txt',\n",
       " '1913-Wilson.txt',\n",
       " '1917-Wilson.txt',\n",
       " '1921-Harding.txt',\n",
       " '1925-Coolidge.txt',\n",
       " '1929-Hoover.txt',\n",
       " '1933-Roosevelt.txt',\n",
       " '1937-Roosevelt.txt',\n",
       " '1941-Roosevelt.txt',\n",
       " '1945-Roosevelt.txt',\n",
       " '1949-Truman.txt',\n",
       " '1953-Eisenhower.txt',\n",
       " '1957-Eisenhower.txt',\n",
       " '1961-Kennedy.txt',\n",
       " '1965-Johnson.txt',\n",
       " '1969-Nixon.txt',\n",
       " '1973-Nixon.txt',\n",
       " '1977-Carter.txt',\n",
       " '1981-Reagan.txt',\n",
       " '1985-Reagan.txt',\n",
       " '1989-Bush.txt',\n",
       " '1993-Clinton.txt',\n",
       " '1997-Clinton.txt',\n",
       " '2001-Bush.txt',\n",
       " '2005-Bush.txt',\n",
       " '2009-Obama.txt',\n",
       " '2013-Obama.txt',\n",
       " '2017-Trump.txt',\n",
       " '2021-Biden.txt']"
      ]
     },
     "execution_count": 9,
     "metadata": {},
     "output_type": "execute_result"
    }
   ],
   "source": [
    "#Listing all the inaugural speeches by presidents of USA\n",
    "inaugural.fileids()"
   ]
  },
  {
   "cell_type": "code",
   "execution_count": 10,
   "id": "c54a4afe",
   "metadata": {},
   "outputs": [
    {
     "data": {
      "text/plain": [
       "['Thank',\n",
       " 'you',\n",
       " '.',\n",
       " 'Thank',\n",
       " 'you',\n",
       " 'so',\n",
       " 'much',\n",
       " '.',\n",
       " 'Vice',\n",
       " 'President',\n",
       " 'Biden',\n",
       " ',',\n",
       " 'Mr',\n",
       " '.',\n",
       " 'Chief',\n",
       " 'Justice',\n",
       " ',',\n",
       " 'Members',\n",
       " 'of',\n",
       " 'the',\n",
       " 'United',\n",
       " 'States',\n",
       " 'Congress',\n",
       " ',',\n",
       " 'distinguished',\n",
       " 'guests',\n",
       " ',',\n",
       " 'and',\n",
       " 'fellow',\n",
       " 'citizens',\n",
       " ':',\n",
       " 'Each',\n",
       " 'time',\n",
       " 'we',\n",
       " 'gather',\n",
       " 'to',\n",
       " 'inaugurate',\n",
       " 'a',\n",
       " 'President',\n",
       " 'we',\n",
       " 'bear',\n",
       " 'witness',\n",
       " 'to',\n",
       " 'the',\n",
       " 'enduring',\n",
       " 'strength',\n",
       " 'of',\n",
       " 'our',\n",
       " 'Constitution',\n",
       " '.']"
      ]
     },
     "execution_count": 10,
     "metadata": {},
     "output_type": "execute_result"
    }
   ],
   "source": [
    "#Extracting first 50 words of obama inaugural speech\n",
    "\n",
    "inaugural.words(fileids='2013-Obama.txt')[:50]"
   ]
  },
  {
   "cell_type": "markdown",
   "id": "a589cd85",
   "metadata": {},
   "source": [
    "# Webtext corpus"
   ]
  },
  {
   "cell_type": "code",
   "execution_count": 11,
   "id": "fb21836e",
   "metadata": {},
   "outputs": [],
   "source": [
    "from nltk.corpus import webtext"
   ]
  },
  {
   "cell_type": "code",
   "execution_count": 12,
   "id": "3f45274a",
   "metadata": {},
   "outputs": [
    {
     "data": {
      "text/plain": [
       "['firefox.txt',\n",
       " 'grail.txt',\n",
       " 'overheard.txt',\n",
       " 'pirates.txt',\n",
       " 'singles.txt',\n",
       " 'wine.txt']"
      ]
     },
     "execution_count": 12,
     "metadata": {},
     "output_type": "execute_result"
    }
   ],
   "source": [
    "webtext.fileids()"
   ]
  },
  {
   "cell_type": "markdown",
   "id": "2dbc7672",
   "metadata": {},
   "source": [
    "# Finding frequency distribution of a text"
   ]
  },
  {
   "cell_type": "code",
   "execution_count": 13,
   "id": "481c8b84",
   "metadata": {},
   "outputs": [],
   "source": [
    "text1 = 'SMS Prinz Adalbert was an armored cruiser built in the early 1900s for the German Kaiserliche Marine, and was named after Prince Adalbert of Prussia, the former commander-in-chief of the Prussian Navy. Her class included a second ship, Friedrich Carl. Prinz Adalbert was built at the Imperial Dockyard in Kiel. Her keel was laid in April 1900 and she was commissioned on 12 January 1904. She served as a gunnery training ship and made several visits to foreign countries. After the outbreak of World War I in July 1914 she served in the Baltic Sea, and after her sister ship was sunk in November 1914, she became the flagship of a cruiser squadron in the Baltic, conducting operations against Russian forces. She was torpedoed twice by British submarines in 1915. On the second occasion she sank quickly with heavy loss of life; from a crew of 675 men, only 3 were rescued.'"
   ]
  },
  {
   "cell_type": "code",
   "execution_count": 14,
   "id": "f3cf76f1",
   "metadata": {},
   "outputs": [
    {
     "data": {
      "text/plain": [
       "['SMS',\n",
       " 'Prinz',\n",
       " 'Adalbert',\n",
       " 'was',\n",
       " 'an',\n",
       " 'armored',\n",
       " 'cruiser',\n",
       " 'built',\n",
       " 'in',\n",
       " 'the',\n",
       " 'early',\n",
       " '1900s',\n",
       " 'for',\n",
       " 'the',\n",
       " 'German',\n",
       " 'Kaiserliche',\n",
       " 'Marine,',\n",
       " 'and',\n",
       " 'was',\n",
       " 'named',\n",
       " 'after',\n",
       " 'Prince',\n",
       " 'Adalbert',\n",
       " 'of',\n",
       " 'Prussia,',\n",
       " 'the',\n",
       " 'former',\n",
       " 'commander-in-chief',\n",
       " 'of',\n",
       " 'the',\n",
       " 'Prussian',\n",
       " 'Navy.',\n",
       " 'Her',\n",
       " 'class',\n",
       " 'included',\n",
       " 'a',\n",
       " 'second',\n",
       " 'ship,',\n",
       " 'Friedrich',\n",
       " 'Carl.',\n",
       " 'Prinz',\n",
       " 'Adalbert',\n",
       " 'was',\n",
       " 'built',\n",
       " 'at',\n",
       " 'the',\n",
       " 'Imperial',\n",
       " 'Dockyard',\n",
       " 'in',\n",
       " 'Kiel.',\n",
       " 'Her',\n",
       " 'keel',\n",
       " 'was',\n",
       " 'laid',\n",
       " 'in',\n",
       " 'April',\n",
       " '1900',\n",
       " 'and',\n",
       " 'she',\n",
       " 'was',\n",
       " 'commissioned',\n",
       " 'on',\n",
       " '12',\n",
       " 'January',\n",
       " '1904.',\n",
       " 'She',\n",
       " 'served',\n",
       " 'as',\n",
       " 'a',\n",
       " 'gunnery',\n",
       " 'training',\n",
       " 'ship',\n",
       " 'and',\n",
       " 'made',\n",
       " 'several',\n",
       " 'visits',\n",
       " 'to',\n",
       " 'foreign',\n",
       " 'countries.',\n",
       " 'After',\n",
       " 'the',\n",
       " 'outbreak',\n",
       " 'of',\n",
       " 'World',\n",
       " 'War',\n",
       " 'I',\n",
       " 'in',\n",
       " 'July',\n",
       " '1914',\n",
       " 'she',\n",
       " 'served',\n",
       " 'in',\n",
       " 'the',\n",
       " 'Baltic',\n",
       " 'Sea,',\n",
       " 'and',\n",
       " 'after',\n",
       " 'her',\n",
       " 'sister',\n",
       " 'ship',\n",
       " 'was',\n",
       " 'sunk',\n",
       " 'in',\n",
       " 'November',\n",
       " '1914,',\n",
       " 'she',\n",
       " 'became',\n",
       " 'the',\n",
       " 'flagship',\n",
       " 'of',\n",
       " 'a',\n",
       " 'cruiser',\n",
       " 'squadron',\n",
       " 'in',\n",
       " 'the',\n",
       " 'Baltic,',\n",
       " 'conducting',\n",
       " 'operations',\n",
       " 'against',\n",
       " 'Russian',\n",
       " 'forces.',\n",
       " 'She',\n",
       " 'was',\n",
       " 'torpedoed',\n",
       " 'twice',\n",
       " 'by',\n",
       " 'British',\n",
       " 'submarines',\n",
       " 'in',\n",
       " '1915.',\n",
       " 'On',\n",
       " 'the',\n",
       " 'second',\n",
       " 'occasion',\n",
       " 'she',\n",
       " 'sank',\n",
       " 'quickly',\n",
       " 'with',\n",
       " 'heavy',\n",
       " 'loss',\n",
       " 'of',\n",
       " 'life;',\n",
       " 'from',\n",
       " 'a',\n",
       " 'crew',\n",
       " 'of',\n",
       " '675',\n",
       " 'men,',\n",
       " 'only',\n",
       " '3',\n",
       " 'were',\n",
       " 'rescued.']"
      ]
     },
     "execution_count": 14,
     "metadata": {},
     "output_type": "execute_result"
    }
   ],
   "source": [
    "text1.split()"
   ]
  },
  {
   "cell_type": "code",
   "execution_count": 15,
   "id": "55031a74",
   "metadata": {},
   "outputs": [],
   "source": [
    "import nltk\n",
    "fd = nltk.FreqDist(text1.split())"
   ]
  },
  {
   "cell_type": "code",
   "execution_count": 16,
   "id": "5ad673ad",
   "metadata": {},
   "outputs": [
    {
     "name": "stdout",
     "output_type": "stream",
     "text": [
      "<FreqDist with 105 samples and 152 outcomes>\n"
     ]
    }
   ],
   "source": [
    "print(fd)"
   ]
  },
  {
   "cell_type": "code",
   "execution_count": 17,
   "id": "06cd8d14",
   "metadata": {},
   "outputs": [
    {
     "data": {
      "text/plain": [
       "FreqDist({'the': 10, 'in': 8, 'was': 7, 'of': 6, 'and': 4, 'a': 4, 'she': 4, 'Adalbert': 3, 'Prinz': 2, 'cruiser': 2, ...})"
      ]
     },
     "execution_count": 17,
     "metadata": {},
     "output_type": "execute_result"
    }
   ],
   "source": [
    "fd"
   ]
  },
  {
   "cell_type": "code",
   "execution_count": 18,
   "id": "523e2f6d",
   "metadata": {},
   "outputs": [
    {
     "data": {
      "image/png": "[encoded data removed]",
      "text/plain": [
       "<Figure size 432x288 with 1 Axes>"
      ]
     },
     "metadata": {
      "needs_background": "light"
     },
     "output_type": "display_data"
    }
   ],
   "source": [
    "import matplotlib.pyplot as plt\n",
    "fd.plot(20, cumulative=False)\n",
    "plt.show()"
   ]
  },
  {
   "cell_type": "code",
   "execution_count": null,
   "id": "00989e46",
   "metadata": {},
   "outputs": [],
   "source": []
  }
 ],
 "metadata": {
  "kernelspec": {
   "display_name": "Python 3 (ipykernel)",
   "language": "python",
   "name": "python3"
  },
  "language_info": {
   "codemirror_mode": {
    "name": "ipython",
    "version": 3
   },
   "file_extension": ".py",
   "mimetype": "text/x-python",
   "name": "python",
   "nbconvert_exporter": "python",
   "pygments_lexer": "ipython3",
   "version": "3.9.7"
  }
 },
 "nbformat": 4,
 "nbformat_minor": 5
}
